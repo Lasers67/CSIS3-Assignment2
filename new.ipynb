{
 "cells": [
  {
   "cell_type": "code",
   "execution_count": 5,
   "metadata": {},
   "outputs": [
    {
     "name": "stdout",
     "output_type": "stream",
     "text": [
      "Converted data saved to ./Embeddings/fr94/fr94-embeddings_6_output.txt\n"
     ]
    }
   ],
   "source": [
    "input_file = \"./Embeddings/ft/ft-embeddings_21.txt\"  # Replace with your input file name\n",
    "output_file = \"./Embeddings/ft/ft-embeddings_21_output.txt\"  # Replace with your desired output file name\n",
    "\n",
    "# Open the input file and output file\n",
    "with open(input_file, 'r') as infile, open(output_file, 'w') as outfile:\n",
    "    for line in infile:\n",
    "        # Extract the numeric value using string operations\n",
    "        numbers = [\n",
    "            part.split(',')[0].replace('tensor(', '').strip()\n",
    "            for part in line.split()\n",
    "            if 'tensor' in part\n",
    "        ]\n",
    "        # Write the numbers to the output file\n",
    "        outfile.write(\" \".join(numbers) + \"\\n\")\n",
    "\n",
    "print(f\"Converted data saved to {output_file}\")\n"
   ]
  }
 ],
 "metadata": {
  "kernelspec": {
   "display_name": "Python 3",
   "language": "python",
   "name": "python3"
  },
  "language_info": {
   "codemirror_mode": {
    "name": "ipython",
    "version": 3
   },
   "file_extension": ".py",
   "mimetype": "text/x-python",
   "name": "python",
   "nbconvert_exporter": "python",
   "pygments_lexer": "ipython3",
   "version": "3.9.6"
  }
 },
 "nbformat": 4,
 "nbformat_minor": 2
}
